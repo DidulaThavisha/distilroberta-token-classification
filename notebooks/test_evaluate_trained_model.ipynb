{
 "cells": [
  {
   "cell_type": "markdown",
   "id": "russian-controversy",
   "metadata": {},
   "source": [
    "# Evaluate/Test Trained model"
   ]
  },
  {
   "cell_type": "code",
   "execution_count": null,
   "id": "indonesian-wings",
   "metadata": {},
   "outputs": [],
   "source": [
    "#!pip install seqeval torch>=1.6.0 transformers datasets"
   ]
  },
  {
   "cell_type": "code",
   "execution_count": 1,
   "id": "hairy-occasions",
   "metadata": {},
   "outputs": [],
   "source": [
    "import os\n",
    "import sys\n",
    "parent = os.path.dirname(os.getcwd())\n",
    "\n",
    "sys.path.insert(0,f'{parent}/src/training')"
   ]
  },
  {
   "cell_type": "code",
   "execution_count": 56,
   "id": "centered-mercy",
   "metadata": {},
   "outputs": [],
   "source": [
    "\n",
    "import torch\n",
    "from datasets import load_metric\n",
    "from torch.utils.data.dataloader import DataLoader\n",
    "from torch.utils.data.sampler import SequentialSampler\n",
    "from transformers import AutoModelForTokenClassification, AutoTokenizer, DataCollatorForTokenClassification,default_data_collator,DataCollatorWithPadding\n",
    "\n",
    "from preprocess_utils import load_ner_dataset, tokenize_dataset\n",
    "from train_utils import prepare_compute_metrics"
   ]
  },
  {
   "cell_type": "code",
   "execution_count": 60,
   "id": "hollywood-collaboration",
   "metadata": {},
   "outputs": [],
   "source": [
    "from types import SimpleNamespace\n",
    "\n",
    "args = SimpleNamespace(\n",
    "    model_name_or_path='elastic/distilbert-base-uncased-finetuned-conll03-english',\n",
    "    dataset='conll2003',\n",
    "    batch_size=4,\n",
    "    pad_to_max_length=False\n",
    ")\n"
   ]
  },
  {
   "cell_type": "code",
   "execution_count": 67,
   "id": "close-running",
   "metadata": {},
   "outputs": [],
   "source": [
    "def evaluate(args):\n",
    "    # Load tokenizer and preprocess dataset\n",
    "\n",
    "    tokenizer = AutoTokenizer.from_pretrained(\n",
    "        args.model_name_or_path,\n",
    "        use_fast=True,\n",
    "        add_prefix_space=True if \"roberta\" in args.model_name_or_path.lower() else False,\n",
    "    )\n",
    "    model = AutoModelForTokenClassification.from_pretrained(args.model_name_or_path)\n",
    "\n",
    "    datasets, num_labels, label_to_id, label_list = load_ner_dataset(args.dataset)\n",
    "    padding = \"max_length\" if args.pad_to_max_length else False\n",
    "    dataset = tokenize_dataset(dataset=datasets[\"test\"], tokenizer=tokenizer, padding=padding, label_to_id=label_to_id)\n",
    "    \n",
    "    metric = load_metric(\"seqeval\")\n",
    "    compute_metrics = prepare_compute_metrics(metric, label_list)\n",
    "\n",
    "    model.eval()\n",
    "    for step, batch in enumerate(dataset):\n",
    "        print(batch)\n",
    "        with torch.no_grad():\n",
    "            input_ids = torch.tensor(batch['input_ids'])\n",
    "            attention_mask = torch.tensor(batch['attention_mask'])\n",
    "            outputs = model(*[input_ids,attention_mask])\n",
    "\n",
    "        predictions = outputs.logits\n",
    "        labels = batch[\"labels\"]\n",
    "        metric.add(\n",
    "            predictions=predictions,\n",
    "            references=labels,\n",
    "        )  # predictions and preferences are expected to be a nested list of labels, not label_ids\n",
    "\n",
    "    result = compute_metrics()\n",
    "    print(result)\n",
    "    return result\n"
   ]
  },
  {
   "cell_type": "code",
   "execution_count": null,
   "id": "designed-understanding",
   "metadata": {},
   "outputs": [],
   "source": [
    "evaluate(args)"
   ]
  },
  {
   "cell_type": "code",
   "execution_count": null,
   "id": "boolean-fraud",
   "metadata": {},
   "outputs": [],
   "source": []
  }
 ],
 "metadata": {
  "kernelspec": {
   "display_name": "Python 3",
   "language": "python",
   "name": "python3"
  },
  "language_info": {
   "codemirror_mode": {
    "name": "ipython",
    "version": 3
   },
   "file_extension": ".py",
   "mimetype": "text/x-python",
   "name": "python",
   "nbconvert_exporter": "python",
   "pygments_lexer": "ipython3",
   "version": "3.8.5"
  }
 },
 "nbformat": 4,
 "nbformat_minor": 5
}
