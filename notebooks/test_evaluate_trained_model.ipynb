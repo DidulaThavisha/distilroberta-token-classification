{
 "cells": [
  {
   "cell_type": "markdown",
   "id": "collective-hypothesis",
   "metadata": {},
   "source": [
    "# Evaluate/Test Trained model"
   ]
  },
  {
   "cell_type": "code",
   "execution_count": 8,
   "id": "infectious-blogger",
   "metadata": {},
   "outputs": [
    {
     "name": "stdout",
     "output_type": "stream",
     "text": [
      "test_evaluate_trained_model.ipynb\r\n"
     ]
    }
   ],
   "source": [
    "!ls"
   ]
  },
  {
   "cell_type": "code",
   "execution_count": 4,
   "id": "appropriate-southwest",
   "metadata": {},
   "outputs": [],
   "source": [
    "import sys\n",
    "sys.path.insert(0,'./src/training')"
   ]
  },
  {
   "cell_type": "code",
   "execution_count": 2,
   "id": "perfect-buffalo",
   "metadata": {
    "scrolled": true
   },
   "outputs": [],
   "source": [
    "from distilroberta_token_classification"
   ]
  },
  {
   "cell_type": "code",
   "execution_count": 2,
   "id": "pacific-label",
   "metadata": {},
   "outputs": [
    {
     "name": "stdout",
     "output_type": "stream",
     "text": [
      "test_evaluate_trained_model.ipynb\r\n"
     ]
    }
   ],
   "source": [
    "!ls"
   ]
  },
  {
   "cell_type": "code",
   "execution_count": null,
   "id": "spatial-pattern",
   "metadata": {},
   "outputs": [],
   "source": []
  }
 ],
 "metadata": {
  "kernelspec": {
   "display_name": "Python 3",
   "language": "python",
   "name": "python3"
  },
  "language_info": {
   "codemirror_mode": {
    "name": "ipython",
    "version": 3
   },
   "file_extension": ".py",
   "mimetype": "text/x-python",
   "name": "python",
   "nbconvert_exporter": "python",
   "pygments_lexer": "ipython3",
   "version": "3.8.5"
  }
 },
 "nbformat": 4,
 "nbformat_minor": 5
}
