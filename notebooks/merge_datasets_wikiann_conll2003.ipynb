{
 "cells": [
  {
   "cell_type": "code",
   "execution_count": 98,
   "id": "broadband-mason",
   "metadata": {},
   "outputs": [],
   "source": [
    "from datasets import load_dataset,concatenate_datasets, load_from_disk"
   ]
  },
  {
   "cell_type": "code",
   "execution_count": 93,
   "id": "cathedral-cannon",
   "metadata": {},
   "outputs": [],
   "source": [
    "feature_column = [\"tokens\",\"ner_tags\"]\n",
    "split_list = [\"train\",\"validation\",\"test\"]\n",
    "\n",
    "def remove_columns_from_dataset_dict(dataset_dict,feature_columns):\n",
    "    assert sorted(split_list) == sorted(list(dataset_dict.keys())), \"Dataset is not containing all splits for train,test,val\"\n",
    "    for split in split_list:\n",
    "        remove_column_list = [col for col in list(dataset_dict[split].features) if col not in feature_column ]\n",
    "        dataset_dict[split] = dataset_dict[split].remove_columns(remove_column_list)\n",
    "    return dataset_dict\n",
    "\n",
    "\n",
    "def merging_all_splits_from_dataset_dict(dataset1,dataset2):\n",
    "    for split in split_list:\n",
    "        assert dataset1[split].features.type == dataset2[split].features.type\n",
    "        dataset1[split] = concatenate_datasets([dataset1[split],dataset2[split]])\n",
    "    return dataset1    \n",
    "            "
   ]
  },
  {
   "cell_type": "markdown",
   "id": "proprietary-herald",
   "metadata": {},
   "source": [
    "# Preprocessing `wikiann`"
   ]
  },
  {
   "cell_type": "code",
   "execution_count": null,
   "id": "polar-brass",
   "metadata": {},
   "outputs": [],
   "source": [
    "wikiann= load_dataset(\"wikiann\",\"en\")"
   ]
  },
  {
   "cell_type": "code",
   "execution_count": 80,
   "id": "unusual-satellite",
   "metadata": {},
   "outputs": [],
   "source": [
    "additional_selected_validation_wikiann = wikiann[\"validation\"].train_test_split(test_size=0.5)\n",
    "additional_selected_test_wikiann = wikiann[\"test\"].train_test_split(test_size=0.5)"
   ]
  },
  {
   "cell_type": "code",
   "execution_count": 81,
   "id": "imperial-editor",
   "metadata": {},
   "outputs": [],
   "source": [
    "assert wikiann[\"train\"].features.type == additional_selected_validation_wikiann[\"train\"].features.type"
   ]
  },
  {
   "cell_type": "code",
   "execution_count": 82,
   "id": "cooked-audit",
   "metadata": {
    "scrolled": false
   },
   "outputs": [],
   "source": [
    "wikiann[\"train\"] = concatenate_datasets([additional_selected_test_wikiann[\"train\"],wikiann[\"train\"]])\n",
    "wikiann[\"validation\"] = additional_selected_validation_wikiann[\"test\"]\n",
    "wikiann[\"test\"] = additional_selected_test_wikiann[\"test\"]"
   ]
  },
  {
   "cell_type": "code",
   "execution_count": 85,
   "id": "diagnostic-robertson",
   "metadata": {
    "scrolled": true
   },
   "outputs": [],
   "source": [
    "wikiann_cleaned = remove_columns_from_dataset_dict(wikiann,feature_column)"
   ]
  },
  {
   "cell_type": "code",
   "execution_count": 86,
   "id": "photographic-scotland",
   "metadata": {},
   "outputs": [
    {
     "data": {
      "text/plain": [
       "DatasetDict({\n",
       "    validation: Dataset({\n",
       "        features: ['tokens', 'ner_tags'],\n",
       "        num_rows: 5000\n",
       "    })\n",
       "    test: Dataset({\n",
       "        features: ['tokens', 'ner_tags'],\n",
       "        num_rows: 5000\n",
       "    })\n",
       "    train: Dataset({\n",
       "        features: ['tokens', 'ner_tags'],\n",
       "        num_rows: 25000\n",
       "    })\n",
       "})"
      ]
     },
     "execution_count": 86,
     "metadata": {},
     "output_type": "execute_result"
    }
   ],
   "source": [
    "wikiann_cleaned"
   ]
  },
  {
   "cell_type": "code",
   "execution_count": 96,
   "id": "driving-investment",
   "metadata": {},
   "outputs": [],
   "source": [
    "wikiann_cleaned.save_to_disk(\"../data/wikiann\")"
   ]
  },
  {
   "cell_type": "markdown",
   "id": "short-moment",
   "metadata": {},
   "source": [
    "# Preprocessing `conll2003`"
   ]
  },
  {
   "cell_type": "code",
   "execution_count": 87,
   "id": "modern-pierre",
   "metadata": {},
   "outputs": [
    {
     "name": "stderr",
     "output_type": "stream",
     "text": [
      "Reusing dataset conll2003 (/Users/philipp/.cache/huggingface/datasets/conll2003/conll2003/1.0.0/40e7cb6bcc374f7c349c83acd1e9352a4f09474eb691f64f364ee62eb65d0ca6)\n"
     ]
    }
   ],
   "source": [
    "conll = load_dataset(\"conll2003\")"
   ]
  },
  {
   "cell_type": "code",
   "execution_count": 88,
   "id": "after-island",
   "metadata": {},
   "outputs": [],
   "source": [
    "conll_cleaned = remove_columns_from_dataset_dict(conll,feature_column)"
   ]
  },
  {
   "cell_type": "code",
   "execution_count": 89,
   "id": "mediterranean-apparel",
   "metadata": {},
   "outputs": [
    {
     "data": {
      "text/plain": [
       "DatasetDict({\n",
       "    train: Dataset({\n",
       "        features: ['tokens', 'ner_tags'],\n",
       "        num_rows: 14041\n",
       "    })\n",
       "    validation: Dataset({\n",
       "        features: ['tokens', 'ner_tags'],\n",
       "        num_rows: 3250\n",
       "    })\n",
       "    test: Dataset({\n",
       "        features: ['tokens', 'ner_tags'],\n",
       "        num_rows: 3453\n",
       "    })\n",
       "})"
      ]
     },
     "execution_count": 89,
     "metadata": {},
     "output_type": "execute_result"
    }
   ],
   "source": [
    "conll_cleaned"
   ]
  },
  {
   "cell_type": "code",
   "execution_count": 97,
   "id": "interesting-prime",
   "metadata": {},
   "outputs": [],
   "source": [
    "conll_cleaned.save_to_disk(\"../data/conll\")"
   ]
  },
  {
   "cell_type": "markdown",
   "id": "final-harvest",
   "metadata": {},
   "source": [
    "# Merging the datasets"
   ]
  },
  {
   "cell_type": "code",
   "execution_count": 99,
   "id": "incorporate-prague",
   "metadata": {},
   "outputs": [],
   "source": [
    "loaded_conll = load_from_disk(\"../data/conll\")\n",
    "wikiann_cleaned = load_from_disk(\"../data/conll\")"
   ]
  },
  {
   "cell_type": "code",
   "execution_count": 100,
   "id": "floppy-symposium",
   "metadata": {},
   "outputs": [],
   "source": [
    "merged_dataset = merging_all_splits_from_dataset_dict(wikiann_cleaned,loaded_conll)"
   ]
  },
  {
   "cell_type": "markdown",
   "id": "fifth-allah",
   "metadata": {},
   "source": [
    "# Filter `ner_tags` to 3 or 4 classes"
   ]
  },
  {
   "cell_type": "code",
   "execution_count": 149,
   "id": "chemical-assault",
   "metadata": {},
   "outputs": [],
   "source": [
    "def change_label_to_zero(example):\n",
    "    example[\"ner_tags\"] = [0 if label==7 or label==8 else label for label in example[\"ner_tags\"]]\n",
    "    return example"
   ]
  },
  {
   "cell_type": "code",
   "execution_count": 150,
   "id": "economic-balloon",
   "metadata": {},
   "outputs": [
    {
     "data": {
      "application/vnd.jupyter.widget-view+json": {
       "model_id": "a1b4487eae904df281b940ee0caf848b",
       "version_major": 2,
       "version_minor": 0
      },
      "text/plain": [
       "HBox(children=(FloatProgress(value=0.0, max=15.0), HTML(value='')))"
      ]
     },
     "metadata": {},
     "output_type": "display_data"
    },
    {
     "name": "stdout",
     "output_type": "stream",
     "text": [
      "\n"
     ]
    }
   ],
   "source": [
    "conll_cleaned[\"train\"] = conll_cleaned[\"train\"].map(change_label_to_zero,batched=True)"
   ]
  },
  {
   "cell_type": "code",
   "execution_count": 151,
   "id": "brown-aviation",
   "metadata": {},
   "outputs": [
    {
     "data": {
      "text/plain": [
       "{'ner_tags': [3, 0, 0, 0, 0, 0, 0, 0, 0],\n",
       " 'tokens': ['EU',\n",
       "  'rejects',\n",
       "  'German',\n",
       "  'call',\n",
       "  'to',\n",
       "  'boycott',\n",
       "  'British',\n",
       "  'lamb',\n",
       "  '.']}"
      ]
     },
     "execution_count": 151,
     "metadata": {},
     "output_type": "execute_result"
    }
   ],
   "source": [
    "conll_cleaned[\"train\"][0]"
   ]
  },
  {
   "cell_type": "code",
   "execution_count": null,
   "id": "appreciated-monitoring",
   "metadata": {},
   "outputs": [],
   "source": []
  }
 ],
 "metadata": {
  "kernelspec": {
   "display_name": "Python 3",
   "language": "python",
   "name": "python3"
  },
  "language_info": {
   "codemirror_mode": {
    "name": "ipython",
    "version": 3
   },
   "file_extension": ".py",
   "mimetype": "text/x-python",
   "name": "python",
   "nbconvert_exporter": "python",
   "pygments_lexer": "ipython3",
   "version": "3.8.5"
  }
 },
 "nbformat": 4,
 "nbformat_minor": 5
}
